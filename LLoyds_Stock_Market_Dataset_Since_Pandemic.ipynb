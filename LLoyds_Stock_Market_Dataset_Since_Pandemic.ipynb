{
  "nbformat": 4,
  "nbformat_minor": 0,
  "metadata": {
    "colab": {
      "name": "LLoyds Stock Market Dataset Since Pandemic.ipynb",
      "provenance": [],
      "collapsed_sections": [],
      "authorship_tag": "ABX9TyPeSxL0VtVgkwnbqCrdgMTf",
      "include_colab_link": true
    },
    "kernelspec": {
      "name": "python3",
      "display_name": "Python 3"
    },
    "language_info": {
      "name": "python"
    }
  },
  "cells": [
    {
      "cell_type": "markdown",
      "metadata": {
        "id": "view-in-github",
        "colab_type": "text"
      },
      "source": [
        "<a href=\"https://colab.research.google.com/github/SRIDEV93/Python-for-DataAnalysis/blob/main/LLoyds_Stock_Market_Dataset_Since_Pandemic.ipynb\" target=\"_parent\"><img src=\"https://colab.research.google.com/assets/colab-badge.svg\" alt=\"Open In Colab\"/></a>"
      ]
    },
    {
      "cell_type": "markdown",
      "source": [
        "# LLoyds Stock Market Dataset Since Pandemic\n",
        "\n",
        "Here I am downloading dataset from yfinance. \n",
        "yfinance is a Yahoo Finance, which is one of the most popular websites to collect the stock price data.\n",
        "\n",
        "I am interested to see the stock analysis of the LLoyds bank since Pandemic to till date."
      ],
      "metadata": {
        "id": "saHZQBF_cid5"
      }
    },
    {
      "cell_type": "markdown",
      "source": [
        "To Analyze this data everytime, I have to use the yfinace API, which is provided by Yahoo Finance to collect the latest stock price data.\n",
        "\n",
        "The Yahoo Finance API is installed using the pip command\n",
        "\n"
      ],
      "metadata": {
        "id": "RuGNKk9Qd4i7"
      }
    },
    {
      "cell_type": "code",
      "execution_count": 11,
      "metadata": {
        "colab": {
          "base_uri": "https://localhost:8080/"
        },
        "id": "UQEEdMDdcSBH",
        "outputId": "1e4b9bd3-2411-4f1f-c8aa-0b45b57a1f93"
      },
      "outputs": [
        {
          "output_type": "stream",
          "name": "stdout",
          "text": [
            "Looking in indexes: https://pypi.org/simple, https://us-python.pkg.dev/colab-wheels/public/simple/\n",
            "Requirement already satisfied: yfinance in /usr/local/lib/python3.7/dist-packages (0.1.74)\n",
            "Requirement already satisfied: multitasking>=0.0.7 in /usr/local/lib/python3.7/dist-packages (from yfinance) (0.0.11)\n",
            "Requirement already satisfied: numpy>=1.15 in /usr/local/lib/python3.7/dist-packages (from yfinance) (1.21.6)\n",
            "Requirement already satisfied: pandas>=0.24.0 in /usr/local/lib/python3.7/dist-packages (from yfinance) (1.3.5)\n",
            "Requirement already satisfied: lxml>=4.5.1 in /usr/local/lib/python3.7/dist-packages (from yfinance) (4.9.1)\n",
            "Requirement already satisfied: requests>=2.26 in /usr/local/lib/python3.7/dist-packages (from yfinance) (2.28.1)\n",
            "Requirement already satisfied: python-dateutil>=2.7.3 in /usr/local/lib/python3.7/dist-packages (from pandas>=0.24.0->yfinance) (2.8.2)\n",
            "Requirement already satisfied: pytz>=2017.3 in /usr/local/lib/python3.7/dist-packages (from pandas>=0.24.0->yfinance) (2022.1)\n",
            "Requirement already satisfied: six>=1.5 in /usr/local/lib/python3.7/dist-packages (from python-dateutil>=2.7.3->pandas>=0.24.0->yfinance) (1.15.0)\n",
            "Requirement already satisfied: charset-normalizer<3,>=2 in /usr/local/lib/python3.7/dist-packages (from requests>=2.26->yfinance) (2.1.0)\n",
            "Requirement already satisfied: idna<4,>=2.5 in /usr/local/lib/python3.7/dist-packages (from requests>=2.26->yfinance) (2.10)\n",
            "Requirement already satisfied: urllib3<1.27,>=1.21.1 in /usr/local/lib/python3.7/dist-packages (from requests>=2.26->yfinance) (1.24.3)\n",
            "Requirement already satisfied: certifi>=2017.4.17 in /usr/local/lib/python3.7/dist-packages (from requests>=2.26->yfinance) (2022.6.15)\n"
          ]
        }
      ],
      "source": [
        "!pip install yfinance"
      ]
    },
    {
      "cell_type": "markdown",
      "source": [
        "# Libraries required"
      ],
      "metadata": {
        "id": "u4FQua7ue3r8"
      }
    },
    {
      "cell_type": "code",
      "source": [
        "import pandas as pd\n",
        "import yfinance as yf\n",
        "import datetime \n",
        "from datetime import timedelta, date"
      ],
      "metadata": {
        "id": "Z4kjkR8gcgpz"
      },
      "execution_count": 12,
      "outputs": []
    },
    {
      "cell_type": "code",
      "source": [
        "# d1 is today's date\n",
        "d1 = date.today().strftime(\"%Y-%m-%d\")\n",
        "end_date = d1\n",
        "\n",
        "#d2 is the start date of the pandemic in UK\n",
        "d2 = datetime.date(2020,1,31)\n",
        "start_date = d2.strftime(\"%Y-%m-%d\")\n",
        "\n",
        "# LLOY.L is the LLoyds banking group in London, United Kingdom\n",
        "\n",
        "# I don't want to see the downloaded progress, So I put progress= False\n",
        "data = yf.download('LLOY.L', start=start_date, end=end_date, progress=False)\n",
        "\n",
        "#First five rows of the data\n",
        "print(data.head())\n"
      ],
      "metadata": {
        "colab": {
          "base_uri": "https://localhost:8080/"
        },
        "id": "JmKgIAmefFy7",
        "outputId": "4b2f8470-e108-415b-95e6-a8cf927bb0d9"
      },
      "execution_count": 13,
      "outputs": [
        {
          "output_type": "stream",
          "name": "stdout",
          "text": [
            "                 Open       High        Low      Close  Adj Close     Volume\n",
            "Date                                                                        \n",
            "2020-01-31  58.480000  58.480000  56.349998  56.790001  48.708920  179297410\n",
            "2020-02-03  56.980000  57.200001  56.189999  56.549999  48.503075  153681928\n",
            "2020-02-04  57.320000  57.590000  56.830002  57.500000  49.317890  113644729\n",
            "2020-02-05  57.660000  58.327999  57.139999  57.139999  49.009117  194283019\n",
            "2020-02-06  57.650002  58.270000  56.845001  56.950001  48.846153  142821635\n"
          ]
        }
      ]
    },
    {
      "cell_type": "code",
      "source": [
        "shape = data.shape\n",
        "shape"
      ],
      "metadata": {
        "colab": {
          "base_uri": "https://localhost:8080/"
        },
        "id": "Onmlpclycgrx",
        "outputId": "1605edb4-60c0-4231-8247-2c9a06cc537a"
      },
      "execution_count": 14,
      "outputs": [
        {
          "output_type": "execute_result",
          "data": {
            "text/plain": [
              "(641, 6)"
            ]
          },
          "metadata": {},
          "execution_count": 14
        }
      ]
    },
    {
      "cell_type": "code",
      "source": [
        "for columns in data.columns:\n",
        "  print(columns)"
      ],
      "metadata": {
        "colab": {
          "base_uri": "https://localhost:8080/"
        },
        "id": "nSR4Aav3cgw9",
        "outputId": "646b4d6b-1652-4b37-9aa4-d1ec35bd2fb5"
      },
      "execution_count": 16,
      "outputs": [
        {
          "output_type": "stream",
          "name": "stdout",
          "text": [
            "Open\n",
            "High\n",
            "Low\n",
            "Close\n",
            "Adj Close\n",
            "Volume\n"
          ]
        }
      ]
    },
    {
      "cell_type": "markdown",
      "source": [
        "Here the shape of the dataframe looks like, it has 7 columns. But it is not true.\n",
        "\n",
        "The shape of the dataframe is (641,6) i.e., 641 rows and 6 columns.\n",
        "\n",
        "Here, Date is not a column, it is the index of this dataset. So we have to convert this index into column.\n",
        "\n"
      ],
      "metadata": {
        "id": "-yg_5Xrajtq-"
      }
    },
    {
      "cell_type": "markdown",
      "source": [
        "# Converting Date(Index) into Column"
      ],
      "metadata": {
        "id": "9YvRhnxuq_J8"
      }
    },
    {
      "cell_type": "code",
      "source": [
        "data[\"Date\"] = data.index\n",
        "data = data[[\"Date\", \"Open\", \"High\", \"Low\", \"Close\", \"Adj Close\", \"Volume\"]]\n",
        "\n",
        "data.reset_index(drop=True, inplace = True)\n",
        "\n",
        "##drop = True\n",
        "#If you set drop = True, reset_index will delete the index instead of inserting it back into columns of the df.\n",
        "#If you set drop = True, the current index will be deleted entirely and the numeric index will replace it.\n",
        "\n",
        "## inplace = True\n",
        "# When inplace = True, the data is updated inplace, which means it will return nothing, and df is now updated.\n",
        "\n",
        "print(data.head())"
      ],
      "metadata": {
        "colab": {
          "base_uri": "https://localhost:8080/"
        },
        "id": "thR8mUz5cgvG",
        "outputId": "a7a4230e-93e0-4469-9d75-239ec1bbc949"
      },
      "execution_count": 17,
      "outputs": [
        {
          "output_type": "stream",
          "name": "stdout",
          "text": [
            "        Date       Open       High        Low      Close  Adj Close     Volume\n",
            "0 2020-01-31  58.480000  58.480000  56.349998  56.790001  48.708920  179297410\n",
            "1 2020-02-03  56.980000  57.200001  56.189999  56.549999  48.503075  153681928\n",
            "2 2020-02-04  57.320000  57.590000  56.830002  57.500000  49.317890  113644729\n",
            "3 2020-02-05  57.660000  58.327999  57.139999  57.139999  49.009117  194283019\n",
            "4 2020-02-06  57.650002  58.270000  56.845001  56.950001  48.846153  142821635\n"
          ]
        }
      ]
    },
    {
      "cell_type": "code",
      "source": [
        "shape = data.shape\n",
        "shape"
      ],
      "metadata": {
        "colab": {
          "base_uri": "https://localhost:8080/"
        },
        "id": "Q15StpAUcg0A",
        "outputId": "e961b81e-f185-4d58-b0ac-6cec23f0b83a"
      },
      "execution_count": 18,
      "outputs": [
        {
          "output_type": "execute_result",
          "data": {
            "text/plain": [
              "(641, 7)"
            ]
          },
          "metadata": {},
          "execution_count": 18
        }
      ]
    },
    {
      "cell_type": "code",
      "source": [
        "for column in data.columns:\n",
        "  print(column)"
      ],
      "metadata": {
        "colab": {
          "base_uri": "https://localhost:8080/"
        },
        "id": "SfRpvtixcg13",
        "outputId": "cbffb4bc-fc90-4f9f-aef9-6f662fb4a93e"
      },
      "execution_count": 19,
      "outputs": [
        {
          "output_type": "stream",
          "name": "stdout",
          "text": [
            "Date\n",
            "Open\n",
            "High\n",
            "Low\n",
            "Close\n",
            "Adj Close\n",
            "Volume\n"
          ]
        }
      ]
    },
    {
      "cell_type": "markdown",
      "source": [
        "Now date is added as an additional column. That's why the shape of the dataframe is (641,7) "
      ],
      "metadata": {
        "id": "6IExaqB5s2hy"
      }
    }
  ]
}